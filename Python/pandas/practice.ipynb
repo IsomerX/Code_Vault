{
 "metadata": {
  "language_info": {
   "codemirror_mode": {
    "name": "ipython",
    "version": 3
   },
   "file_extension": ".py",
   "mimetype": "text/x-python",
   "name": "python",
   "nbconvert_exporter": "python",
   "pygments_lexer": "ipython3",
   "version": "3.9.5"
  },
  "orig_nbformat": 4,
  "kernelspec": {
   "name": "python3",
   "display_name": "Python 3.9.5 64-bit"
  },
  "interpreter": {
   "hash": "d2117e400053dd08b8c325c488bfb500d89dba35e3a1d635cced305f2b8c629f"
  }
 },
 "nbformat": 4,
 "nbformat_minor": 2,
 "cells": [
  {
   "cell_type": "code",
   "execution_count": 118,
   "metadata": {},
   "outputs": [],
   "source": [
    "import pandas as pd\n",
    "import numpy as np\n",
    "import matplotlib.pyplot as plt"
   ]
  },
  {
   "cell_type": "code",
   "execution_count": null,
   "metadata": {},
   "outputs": [],
   "source": [
    "ser = pd.Series([1,2,3,np.nan,])"
   ]
  },
  {
   "cell_type": "code",
   "execution_count": null,
   "metadata": {},
   "outputs": [],
   "source": [
    "ser"
   ]
  },
  {
   "cell_type": "code",
   "execution_count": 50,
   "metadata": {},
   "outputs": [],
   "source": [
    "dates = pd.date_range(start = \"01/01/2018\", periods = 2, freq = 'Y')"
   ]
  },
  {
   "cell_type": "code",
   "execution_count": null,
   "metadata": {},
   "outputs": [],
   "source": [
    "dates"
   ]
  },
  {
   "cell_type": "code",
   "execution_count": 86,
   "metadata": {},
   "outputs": [],
   "source": [
    "date_index = pd.date_range(\"2018/01/01\",periods = 8)"
   ]
  },
  {
   "cell_type": "code",
   "execution_count": 87,
   "metadata": {},
   "outputs": [],
   "source": [
    "tab = pd.DataFrame(np.random.randn(len(date_index),4),index = date_index, columns=['A','B','C','D'])"
   ]
  },
  {
   "cell_type": "code",
   "execution_count": 33,
   "metadata": {},
   "outputs": [
    {
     "output_type": "execute_result",
     "data": {
      "text/plain": [
       "                   A         B         C         D\n",
       "2018-01-01  0.098484  0.760285 -0.781808 -1.106472\n",
       "2018-01-02 -2.211788  0.316395 -0.251133  2.008395\n",
       "2018-01-03 -2.398546  0.914413 -0.083014 -0.388661\n",
       "2018-01-04 -0.428751 -0.640450 -1.581853  1.015698\n",
       "2018-01-05  0.190348 -0.184426 -0.670568 -1.555462\n",
       "2018-01-06 -0.223321 -0.523023 -0.919663 -3.194339\n",
       "2018-01-07  0.240356 -0.778163 -0.399253  0.044106\n",
       "2018-01-08  0.382277 -0.747006  0.279800  0.137749"
      ],
      "text/html": "<div>\n<style scoped>\n    .dataframe tbody tr th:only-of-type {\n        vertical-align: middle;\n    }\n\n    .dataframe tbody tr th {\n        vertical-align: top;\n    }\n\n    .dataframe thead th {\n        text-align: right;\n    }\n</style>\n<table border=\"1\" class=\"dataframe\">\n  <thead>\n    <tr style=\"text-align: right;\">\n      <th></th>\n      <th>A</th>\n      <th>B</th>\n      <th>C</th>\n      <th>D</th>\n    </tr>\n  </thead>\n  <tbody>\n    <tr>\n      <th>2018-01-01</th>\n      <td>0.098484</td>\n      <td>0.760285</td>\n      <td>-0.781808</td>\n      <td>-1.106472</td>\n    </tr>\n    <tr>\n      <th>2018-01-02</th>\n      <td>-2.211788</td>\n      <td>0.316395</td>\n      <td>-0.251133</td>\n      <td>2.008395</td>\n    </tr>\n    <tr>\n      <th>2018-01-03</th>\n      <td>-2.398546</td>\n      <td>0.914413</td>\n      <td>-0.083014</td>\n      <td>-0.388661</td>\n    </tr>\n    <tr>\n      <th>2018-01-04</th>\n      <td>-0.428751</td>\n      <td>-0.640450</td>\n      <td>-1.581853</td>\n      <td>1.015698</td>\n    </tr>\n    <tr>\n      <th>2018-01-05</th>\n      <td>0.190348</td>\n      <td>-0.184426</td>\n      <td>-0.670568</td>\n      <td>-1.555462</td>\n    </tr>\n    <tr>\n      <th>2018-01-06</th>\n      <td>-0.223321</td>\n      <td>-0.523023</td>\n      <td>-0.919663</td>\n      <td>-3.194339</td>\n    </tr>\n    <tr>\n      <th>2018-01-07</th>\n      <td>0.240356</td>\n      <td>-0.778163</td>\n      <td>-0.399253</td>\n      <td>0.044106</td>\n    </tr>\n    <tr>\n      <th>2018-01-08</th>\n      <td>0.382277</td>\n      <td>-0.747006</td>\n      <td>0.279800</td>\n      <td>0.137749</td>\n    </tr>\n  </tbody>\n</table>\n</div>"
     },
     "metadata": {},
     "execution_count": 33
    }
   ],
   "source": [
    "tab"
   ]
  },
  {
   "cell_type": "code",
   "execution_count": null,
   "metadata": {},
   "outputs": [],
   "source": [
    "tab.stack()"
   ]
  },
  {
   "cell_type": "code",
   "execution_count": 34,
   "metadata": {},
   "outputs": [
    {
     "output_type": "execute_result",
     "data": {
      "text/plain": [
       "A    True\n",
       "B    True\n",
       "C    True\n",
       "D    True\n",
       "dtype: bool"
      ]
     },
     "metadata": {},
     "execution_count": 34
    }
   ],
   "source": [
    "tab.all()"
   ]
  },
  {
   "cell_type": "code",
   "execution_count": 35,
   "metadata": {},
   "outputs": [
    {
     "output_type": "execute_result",
     "data": {
      "text/plain": [
       "array([[ 0.09848399,  0.76028532, -0.781808  , -1.10647201],\n",
       "       [-2.2117881 ,  0.3163953 , -0.25113318,  2.00839479],\n",
       "       [-2.39854581,  0.91441267, -0.08301369, -0.38866062],\n",
       "       [-0.42875079, -0.64044959, -1.58185271,  1.01569761],\n",
       "       [ 0.19034767, -0.18442551, -0.67056752, -1.55546224],\n",
       "       [-0.22332128, -0.52302326, -0.9196626 , -3.19433908],\n",
       "       [ 0.24035571, -0.77816318, -0.39925282,  0.04410566],\n",
       "       [ 0.38227667, -0.74700631,  0.27980035,  0.13774881]])"
      ]
     },
     "metadata": {},
     "execution_count": 35
    }
   ],
   "source": [
    "tab.to_numpy()"
   ]
  },
  {
   "cell_type": "code",
   "execution_count": 37,
   "metadata": {},
   "outputs": [
    {
     "output_type": "execute_result",
     "data": {
      "text/plain": [
       "              A         B         C         D\n",
       "count  8.000000  8.000000  8.000000  8.000000\n",
       "mean  -0.543868 -0.110247 -0.550936 -0.379873\n",
       "std    1.118815  0.686435  0.571755  1.600463\n",
       "min   -2.398546 -0.778163 -1.581853 -3.194339\n",
       "25%   -0.874510 -0.667089 -0.816272 -1.218720\n",
       "50%   -0.062419 -0.353724 -0.534910 -0.172277\n",
       "75%    0.202850  0.427368 -0.209103  0.357236\n",
       "max    0.382277  0.914413  0.279800  2.008395"
      ],
      "text/html": "<div>\n<style scoped>\n    .dataframe tbody tr th:only-of-type {\n        vertical-align: middle;\n    }\n\n    .dataframe tbody tr th {\n        vertical-align: top;\n    }\n\n    .dataframe thead th {\n        text-align: right;\n    }\n</style>\n<table border=\"1\" class=\"dataframe\">\n  <thead>\n    <tr style=\"text-align: right;\">\n      <th></th>\n      <th>A</th>\n      <th>B</th>\n      <th>C</th>\n      <th>D</th>\n    </tr>\n  </thead>\n  <tbody>\n    <tr>\n      <th>count</th>\n      <td>8.000000</td>\n      <td>8.000000</td>\n      <td>8.000000</td>\n      <td>8.000000</td>\n    </tr>\n    <tr>\n      <th>mean</th>\n      <td>-0.543868</td>\n      <td>-0.110247</td>\n      <td>-0.550936</td>\n      <td>-0.379873</td>\n    </tr>\n    <tr>\n      <th>std</th>\n      <td>1.118815</td>\n      <td>0.686435</td>\n      <td>0.571755</td>\n      <td>1.600463</td>\n    </tr>\n    <tr>\n      <th>min</th>\n      <td>-2.398546</td>\n      <td>-0.778163</td>\n      <td>-1.581853</td>\n      <td>-3.194339</td>\n    </tr>\n    <tr>\n      <th>25%</th>\n      <td>-0.874510</td>\n      <td>-0.667089</td>\n      <td>-0.816272</td>\n      <td>-1.218720</td>\n    </tr>\n    <tr>\n      <th>50%</th>\n      <td>-0.062419</td>\n      <td>-0.353724</td>\n      <td>-0.534910</td>\n      <td>-0.172277</td>\n    </tr>\n    <tr>\n      <th>75%</th>\n      <td>0.202850</td>\n      <td>0.427368</td>\n      <td>-0.209103</td>\n      <td>0.357236</td>\n    </tr>\n    <tr>\n      <th>max</th>\n      <td>0.382277</td>\n      <td>0.914413</td>\n      <td>0.279800</td>\n      <td>2.008395</td>\n    </tr>\n  </tbody>\n</table>\n</div>"
     },
     "metadata": {},
     "execution_count": 37
    }
   ],
   "source": [
    "tab.describe()"
   ]
  },
  {
   "cell_type": "code",
   "execution_count": 38,
   "metadata": {},
   "outputs": [
    {
     "output_type": "execute_result",
     "data": {
      "text/plain": [
       "   2018-01-01  2018-01-02  2018-01-03  2018-01-04  2018-01-05  2018-01-06  \\\n",
       "A    0.098484   -2.211788   -2.398546   -0.428751    0.190348   -0.223321   \n",
       "B    0.760285    0.316395    0.914413   -0.640450   -0.184426   -0.523023   \n",
       "C   -0.781808   -0.251133   -0.083014   -1.581853   -0.670568   -0.919663   \n",
       "D   -1.106472    2.008395   -0.388661    1.015698   -1.555462   -3.194339   \n",
       "\n",
       "   2018-01-07  2018-01-08  \n",
       "A    0.240356    0.382277  \n",
       "B   -0.778163   -0.747006  \n",
       "C   -0.399253    0.279800  \n",
       "D    0.044106    0.137749  "
      ],
      "text/html": "<div>\n<style scoped>\n    .dataframe tbody tr th:only-of-type {\n        vertical-align: middle;\n    }\n\n    .dataframe tbody tr th {\n        vertical-align: top;\n    }\n\n    .dataframe thead th {\n        text-align: right;\n    }\n</style>\n<table border=\"1\" class=\"dataframe\">\n  <thead>\n    <tr style=\"text-align: right;\">\n      <th></th>\n      <th>2018-01-01</th>\n      <th>2018-01-02</th>\n      <th>2018-01-03</th>\n      <th>2018-01-04</th>\n      <th>2018-01-05</th>\n      <th>2018-01-06</th>\n      <th>2018-01-07</th>\n      <th>2018-01-08</th>\n    </tr>\n  </thead>\n  <tbody>\n    <tr>\n      <th>A</th>\n      <td>0.098484</td>\n      <td>-2.211788</td>\n      <td>-2.398546</td>\n      <td>-0.428751</td>\n      <td>0.190348</td>\n      <td>-0.223321</td>\n      <td>0.240356</td>\n      <td>0.382277</td>\n    </tr>\n    <tr>\n      <th>B</th>\n      <td>0.760285</td>\n      <td>0.316395</td>\n      <td>0.914413</td>\n      <td>-0.640450</td>\n      <td>-0.184426</td>\n      <td>-0.523023</td>\n      <td>-0.778163</td>\n      <td>-0.747006</td>\n    </tr>\n    <tr>\n      <th>C</th>\n      <td>-0.781808</td>\n      <td>-0.251133</td>\n      <td>-0.083014</td>\n      <td>-1.581853</td>\n      <td>-0.670568</td>\n      <td>-0.919663</td>\n      <td>-0.399253</td>\n      <td>0.279800</td>\n    </tr>\n    <tr>\n      <th>D</th>\n      <td>-1.106472</td>\n      <td>2.008395</td>\n      <td>-0.388661</td>\n      <td>1.015698</td>\n      <td>-1.555462</td>\n      <td>-3.194339</td>\n      <td>0.044106</td>\n      <td>0.137749</td>\n    </tr>\n  </tbody>\n</table>\n</div>"
     },
     "metadata": {},
     "execution_count": 38
    }
   ],
   "source": [
    "tab.T"
   ]
  },
  {
   "cell_type": "code",
   "execution_count": 44,
   "metadata": {},
   "outputs": [
    {
     "output_type": "execute_result",
     "data": {
      "text/plain": [
       "                   A         B         C         D\n",
       "2018-01-07  0.240356 -0.778163 -0.399253  0.044106\n",
       "2018-01-08  0.382277 -0.747006  0.279800  0.137749\n",
       "2018-01-04 -0.428751 -0.640450 -1.581853  1.015698\n",
       "2018-01-06 -0.223321 -0.523023 -0.919663 -3.194339\n",
       "2018-01-05  0.190348 -0.184426 -0.670568 -1.555462\n",
       "2018-01-02 -2.211788  0.316395 -0.251133  2.008395\n",
       "2018-01-01  0.098484  0.760285 -0.781808 -1.106472\n",
       "2018-01-03 -2.398546  0.914413 -0.083014 -0.388661"
      ],
      "text/html": "<div>\n<style scoped>\n    .dataframe tbody tr th:only-of-type {\n        vertical-align: middle;\n    }\n\n    .dataframe tbody tr th {\n        vertical-align: top;\n    }\n\n    .dataframe thead th {\n        text-align: right;\n    }\n</style>\n<table border=\"1\" class=\"dataframe\">\n  <thead>\n    <tr style=\"text-align: right;\">\n      <th></th>\n      <th>A</th>\n      <th>B</th>\n      <th>C</th>\n      <th>D</th>\n    </tr>\n  </thead>\n  <tbody>\n    <tr>\n      <th>2018-01-07</th>\n      <td>0.240356</td>\n      <td>-0.778163</td>\n      <td>-0.399253</td>\n      <td>0.044106</td>\n    </tr>\n    <tr>\n      <th>2018-01-08</th>\n      <td>0.382277</td>\n      <td>-0.747006</td>\n      <td>0.279800</td>\n      <td>0.137749</td>\n    </tr>\n    <tr>\n      <th>2018-01-04</th>\n      <td>-0.428751</td>\n      <td>-0.640450</td>\n      <td>-1.581853</td>\n      <td>1.015698</td>\n    </tr>\n    <tr>\n      <th>2018-01-06</th>\n      <td>-0.223321</td>\n      <td>-0.523023</td>\n      <td>-0.919663</td>\n      <td>-3.194339</td>\n    </tr>\n    <tr>\n      <th>2018-01-05</th>\n      <td>0.190348</td>\n      <td>-0.184426</td>\n      <td>-0.670568</td>\n      <td>-1.555462</td>\n    </tr>\n    <tr>\n      <th>2018-01-02</th>\n      <td>-2.211788</td>\n      <td>0.316395</td>\n      <td>-0.251133</td>\n      <td>2.008395</td>\n    </tr>\n    <tr>\n      <th>2018-01-01</th>\n      <td>0.098484</td>\n      <td>0.760285</td>\n      <td>-0.781808</td>\n      <td>-1.106472</td>\n    </tr>\n    <tr>\n      <th>2018-01-03</th>\n      <td>-2.398546</td>\n      <td>0.914413</td>\n      <td>-0.083014</td>\n      <td>-0.388661</td>\n    </tr>\n  </tbody>\n</table>\n</div>"
     },
     "metadata": {},
     "execution_count": 44
    }
   ],
   "source": [
    "tab.sort_values(\"B\",axis = \"rows\", ascending=True)"
   ]
  },
  {
   "cell_type": "code",
   "execution_count": 46,
   "metadata": {},
   "outputs": [
    {
     "output_type": "execute_result",
     "data": {
      "text/plain": [
       "                   D         C         B         A\n",
       "2018-01-01 -1.106472 -0.781808  0.760285  0.098484\n",
       "2018-01-02  2.008395 -0.251133  0.316395 -2.211788\n",
       "2018-01-03 -0.388661 -0.083014  0.914413 -2.398546\n",
       "2018-01-04  1.015698 -1.581853 -0.640450 -0.428751\n",
       "2018-01-05 -1.555462 -0.670568 -0.184426  0.190348\n",
       "2018-01-06 -3.194339 -0.919663 -0.523023 -0.223321\n",
       "2018-01-07  0.044106 -0.399253 -0.778163  0.240356\n",
       "2018-01-08  0.137749  0.279800 -0.747006  0.382277"
      ],
      "text/html": "<div>\n<style scoped>\n    .dataframe tbody tr th:only-of-type {\n        vertical-align: middle;\n    }\n\n    .dataframe tbody tr th {\n        vertical-align: top;\n    }\n\n    .dataframe thead th {\n        text-align: right;\n    }\n</style>\n<table border=\"1\" class=\"dataframe\">\n  <thead>\n    <tr style=\"text-align: right;\">\n      <th></th>\n      <th>D</th>\n      <th>C</th>\n      <th>B</th>\n      <th>A</th>\n    </tr>\n  </thead>\n  <tbody>\n    <tr>\n      <th>2018-01-01</th>\n      <td>-1.106472</td>\n      <td>-0.781808</td>\n      <td>0.760285</td>\n      <td>0.098484</td>\n    </tr>\n    <tr>\n      <th>2018-01-02</th>\n      <td>2.008395</td>\n      <td>-0.251133</td>\n      <td>0.316395</td>\n      <td>-2.211788</td>\n    </tr>\n    <tr>\n      <th>2018-01-03</th>\n      <td>-0.388661</td>\n      <td>-0.083014</td>\n      <td>0.914413</td>\n      <td>-2.398546</td>\n    </tr>\n    <tr>\n      <th>2018-01-04</th>\n      <td>1.015698</td>\n      <td>-1.581853</td>\n      <td>-0.640450</td>\n      <td>-0.428751</td>\n    </tr>\n    <tr>\n      <th>2018-01-05</th>\n      <td>-1.555462</td>\n      <td>-0.670568</td>\n      <td>-0.184426</td>\n      <td>0.190348</td>\n    </tr>\n    <tr>\n      <th>2018-01-06</th>\n      <td>-3.194339</td>\n      <td>-0.919663</td>\n      <td>-0.523023</td>\n      <td>-0.223321</td>\n    </tr>\n    <tr>\n      <th>2018-01-07</th>\n      <td>0.044106</td>\n      <td>-0.399253</td>\n      <td>-0.778163</td>\n      <td>0.240356</td>\n    </tr>\n    <tr>\n      <th>2018-01-08</th>\n      <td>0.137749</td>\n      <td>0.279800</td>\n      <td>-0.747006</td>\n      <td>0.382277</td>\n    </tr>\n  </tbody>\n</table>\n</div>"
     },
     "metadata": {},
     "execution_count": 46
    }
   ],
   "source": [
    "tab.sort_index(axis = \"columns\", ascending=False)"
   ]
  },
  {
   "cell_type": "code",
   "execution_count": 56,
   "metadata": {},
   "outputs": [
    {
     "output_type": "execute_result",
     "data": {
      "text/plain": [
       "                   A         B         C         D\n",
       "2018-01-01  0.056979 -0.161044 -0.911646 -0.842654\n",
       "2018-01-02 -0.674391 -1.480492 -0.604522  0.716228\n",
       "2018-01-03 -0.549228 -0.443082 -0.621961 -0.860373\n",
       "2018-01-04 -0.158203  0.241667  0.782046  0.897324\n",
       "2018-01-05  1.049310  1.180641 -1.174870 -1.084053\n",
       "2018-01-06  0.659080  0.303941  0.235862  0.042330\n",
       "2018-01-07 -0.073970 -1.140928  0.424966 -0.511659\n",
       "2018-01-08  1.658690 -0.202797  3.774142  1.042628"
      ],
      "text/html": "<div>\n<style scoped>\n    .dataframe tbody tr th:only-of-type {\n        vertical-align: middle;\n    }\n\n    .dataframe tbody tr th {\n        vertical-align: top;\n    }\n\n    .dataframe thead th {\n        text-align: right;\n    }\n</style>\n<table border=\"1\" class=\"dataframe\">\n  <thead>\n    <tr style=\"text-align: right;\">\n      <th></th>\n      <th>A</th>\n      <th>B</th>\n      <th>C</th>\n      <th>D</th>\n    </tr>\n  </thead>\n  <tbody>\n    <tr>\n      <th>2018-01-01</th>\n      <td>0.056979</td>\n      <td>-0.161044</td>\n      <td>-0.911646</td>\n      <td>-0.842654</td>\n    </tr>\n    <tr>\n      <th>2018-01-02</th>\n      <td>-0.674391</td>\n      <td>-1.480492</td>\n      <td>-0.604522</td>\n      <td>0.716228</td>\n    </tr>\n    <tr>\n      <th>2018-01-03</th>\n      <td>-0.549228</td>\n      <td>-0.443082</td>\n      <td>-0.621961</td>\n      <td>-0.860373</td>\n    </tr>\n    <tr>\n      <th>2018-01-04</th>\n      <td>-0.158203</td>\n      <td>0.241667</td>\n      <td>0.782046</td>\n      <td>0.897324</td>\n    </tr>\n    <tr>\n      <th>2018-01-05</th>\n      <td>1.049310</td>\n      <td>1.180641</td>\n      <td>-1.174870</td>\n      <td>-1.084053</td>\n    </tr>\n    <tr>\n      <th>2018-01-06</th>\n      <td>0.659080</td>\n      <td>0.303941</td>\n      <td>0.235862</td>\n      <td>0.042330</td>\n    </tr>\n    <tr>\n      <th>2018-01-07</th>\n      <td>-0.073970</td>\n      <td>-1.140928</td>\n      <td>0.424966</td>\n      <td>-0.511659</td>\n    </tr>\n    <tr>\n      <th>2018-01-08</th>\n      <td>1.658690</td>\n      <td>-0.202797</td>\n      <td>3.774142</td>\n      <td>1.042628</td>\n    </tr>\n  </tbody>\n</table>\n</div>"
     },
     "metadata": {},
     "execution_count": 56
    }
   ],
   "source": [
    "tab"
   ]
  },
  {
   "cell_type": "code",
   "execution_count": 72,
   "metadata": {},
   "outputs": [
    {
     "output_type": "execute_result",
     "data": {
      "text/plain": [
       "2018-01-01   -0.842654\n",
       "2018-01-02    0.716228\n",
       "2018-01-03   -0.860373\n",
       "Freq: D, Name: D, dtype: float64"
      ]
     },
     "metadata": {},
     "execution_count": 72
    }
   ],
   "source": [
    "tab.iloc[0:3,3]"
   ]
  },
  {
   "cell_type": "code",
   "execution_count": 68,
   "metadata": {},
   "outputs": [
    {
     "output_type": "execute_result",
     "data": {
      "text/plain": [
       "                   A         B\n",
       "2018-01-01  0.056979 -0.161044\n",
       "2018-01-02 -0.674391 -1.480492\n",
       "2018-01-03 -0.549228 -0.443082\n",
       "2018-01-04 -0.158203  0.241667\n",
       "2018-01-05  1.049310  1.180641\n",
       "2018-01-06  0.659080  0.303941\n",
       "2018-01-07 -0.073970 -1.140928\n",
       "2018-01-08  1.658690 -0.202797"
      ],
      "text/html": "<div>\n<style scoped>\n    .dataframe tbody tr th:only-of-type {\n        vertical-align: middle;\n    }\n\n    .dataframe tbody tr th {\n        vertical-align: top;\n    }\n\n    .dataframe thead th {\n        text-align: right;\n    }\n</style>\n<table border=\"1\" class=\"dataframe\">\n  <thead>\n    <tr style=\"text-align: right;\">\n      <th></th>\n      <th>A</th>\n      <th>B</th>\n    </tr>\n  </thead>\n  <tbody>\n    <tr>\n      <th>2018-01-01</th>\n      <td>0.056979</td>\n      <td>-0.161044</td>\n    </tr>\n    <tr>\n      <th>2018-01-02</th>\n      <td>-0.674391</td>\n      <td>-1.480492</td>\n    </tr>\n    <tr>\n      <th>2018-01-03</th>\n      <td>-0.549228</td>\n      <td>-0.443082</td>\n    </tr>\n    <tr>\n      <th>2018-01-04</th>\n      <td>-0.158203</td>\n      <td>0.241667</td>\n    </tr>\n    <tr>\n      <th>2018-01-05</th>\n      <td>1.049310</td>\n      <td>1.180641</td>\n    </tr>\n    <tr>\n      <th>2018-01-06</th>\n      <td>0.659080</td>\n      <td>0.303941</td>\n    </tr>\n    <tr>\n      <th>2018-01-07</th>\n      <td>-0.073970</td>\n      <td>-1.140928</td>\n    </tr>\n    <tr>\n      <th>2018-01-08</th>\n      <td>1.658690</td>\n      <td>-0.202797</td>\n    </tr>\n  </tbody>\n</table>\n</div>"
     },
     "metadata": {},
     "execution_count": 68
    }
   ],
   "source": [
    "tab.loc[:,['A','B']]"
   ]
  },
  {
   "cell_type": "code",
   "execution_count": 74,
   "metadata": {},
   "outputs": [
    {
     "output_type": "execute_result",
     "data": {
      "text/plain": [
       "-0.6219605134969596"
      ]
     },
     "metadata": {},
     "execution_count": 74
    }
   ],
   "source": [
    "tab.iat[2,2]"
   ]
  },
  {
   "cell_type": "code",
   "execution_count": 78,
   "metadata": {},
   "outputs": [
    {
     "output_type": "execute_result",
     "data": {
      "text/plain": [
       "                   A         B         C         D\n",
       "2018-01-01  0.056979       NaN       NaN       NaN\n",
       "2018-01-02       NaN       NaN       NaN  0.716228\n",
       "2018-01-03       NaN       NaN       NaN       NaN\n",
       "2018-01-04       NaN  0.241667  0.782046  0.897324\n",
       "2018-01-05  1.049310  1.180641       NaN       NaN\n",
       "2018-01-06  0.659080  0.303941  0.235862  0.042330\n",
       "2018-01-07       NaN       NaN  0.424966       NaN\n",
       "2018-01-08  1.658690       NaN  3.774142  1.042628"
      ],
      "text/html": "<div>\n<style scoped>\n    .dataframe tbody tr th:only-of-type {\n        vertical-align: middle;\n    }\n\n    .dataframe tbody tr th {\n        vertical-align: top;\n    }\n\n    .dataframe thead th {\n        text-align: right;\n    }\n</style>\n<table border=\"1\" class=\"dataframe\">\n  <thead>\n    <tr style=\"text-align: right;\">\n      <th></th>\n      <th>A</th>\n      <th>B</th>\n      <th>C</th>\n      <th>D</th>\n    </tr>\n  </thead>\n  <tbody>\n    <tr>\n      <th>2018-01-01</th>\n      <td>0.056979</td>\n      <td>NaN</td>\n      <td>NaN</td>\n      <td>NaN</td>\n    </tr>\n    <tr>\n      <th>2018-01-02</th>\n      <td>NaN</td>\n      <td>NaN</td>\n      <td>NaN</td>\n      <td>0.716228</td>\n    </tr>\n    <tr>\n      <th>2018-01-03</th>\n      <td>NaN</td>\n      <td>NaN</td>\n      <td>NaN</td>\n      <td>NaN</td>\n    </tr>\n    <tr>\n      <th>2018-01-04</th>\n      <td>NaN</td>\n      <td>0.241667</td>\n      <td>0.782046</td>\n      <td>0.897324</td>\n    </tr>\n    <tr>\n      <th>2018-01-05</th>\n      <td>1.049310</td>\n      <td>1.180641</td>\n      <td>NaN</td>\n      <td>NaN</td>\n    </tr>\n    <tr>\n      <th>2018-01-06</th>\n      <td>0.659080</td>\n      <td>0.303941</td>\n      <td>0.235862</td>\n      <td>0.042330</td>\n    </tr>\n    <tr>\n      <th>2018-01-07</th>\n      <td>NaN</td>\n      <td>NaN</td>\n      <td>0.424966</td>\n      <td>NaN</td>\n    </tr>\n    <tr>\n      <th>2018-01-08</th>\n      <td>1.658690</td>\n      <td>NaN</td>\n      <td>3.774142</td>\n      <td>1.042628</td>\n    </tr>\n  </tbody>\n</table>\n</div>"
     },
     "metadata": {},
     "execution_count": 78
    }
   ],
   "source": [
    "tab.where(tab > 0)"
   ]
  },
  {
   "cell_type": "code",
   "execution_count": 79,
   "metadata": {},
   "outputs": [
    {
     "output_type": "execute_result",
     "data": {
      "text/plain": [
       "                   A         B         C         D\n",
       "2018-01-01  0.056979       NaN       NaN       NaN\n",
       "2018-01-02       NaN       NaN       NaN  0.716228\n",
       "2018-01-03       NaN       NaN       NaN       NaN\n",
       "2018-01-04       NaN  0.241667  0.782046  0.897324\n",
       "2018-01-05  1.049310  1.180641       NaN       NaN\n",
       "2018-01-06  0.659080  0.303941  0.235862  0.042330\n",
       "2018-01-07       NaN       NaN  0.424966       NaN\n",
       "2018-01-08  1.658690       NaN  3.774142  1.042628"
      ],
      "text/html": "<div>\n<style scoped>\n    .dataframe tbody tr th:only-of-type {\n        vertical-align: middle;\n    }\n\n    .dataframe tbody tr th {\n        vertical-align: top;\n    }\n\n    .dataframe thead th {\n        text-align: right;\n    }\n</style>\n<table border=\"1\" class=\"dataframe\">\n  <thead>\n    <tr style=\"text-align: right;\">\n      <th></th>\n      <th>A</th>\n      <th>B</th>\n      <th>C</th>\n      <th>D</th>\n    </tr>\n  </thead>\n  <tbody>\n    <tr>\n      <th>2018-01-01</th>\n      <td>0.056979</td>\n      <td>NaN</td>\n      <td>NaN</td>\n      <td>NaN</td>\n    </tr>\n    <tr>\n      <th>2018-01-02</th>\n      <td>NaN</td>\n      <td>NaN</td>\n      <td>NaN</td>\n      <td>0.716228</td>\n    </tr>\n    <tr>\n      <th>2018-01-03</th>\n      <td>NaN</td>\n      <td>NaN</td>\n      <td>NaN</td>\n      <td>NaN</td>\n    </tr>\n    <tr>\n      <th>2018-01-04</th>\n      <td>NaN</td>\n      <td>0.241667</td>\n      <td>0.782046</td>\n      <td>0.897324</td>\n    </tr>\n    <tr>\n      <th>2018-01-05</th>\n      <td>1.049310</td>\n      <td>1.180641</td>\n      <td>NaN</td>\n      <td>NaN</td>\n    </tr>\n    <tr>\n      <th>2018-01-06</th>\n      <td>0.659080</td>\n      <td>0.303941</td>\n      <td>0.235862</td>\n      <td>0.042330</td>\n    </tr>\n    <tr>\n      <th>2018-01-07</th>\n      <td>NaN</td>\n      <td>NaN</td>\n      <td>0.424966</td>\n      <td>NaN</td>\n    </tr>\n    <tr>\n      <th>2018-01-08</th>\n      <td>1.658690</td>\n      <td>NaN</td>\n      <td>3.774142</td>\n      <td>1.042628</td>\n    </tr>\n  </tbody>\n</table>\n</div>"
     },
     "metadata": {},
     "execution_count": 79
    }
   ],
   "source": [
    "tab[tab>0]"
   ]
  },
  {
   "cell_type": "code",
   "execution_count": 80,
   "metadata": {},
   "outputs": [],
   "source": [
    "tab['E'] = [\"one\",\"two\",\"fiveeee\",\"one\",\"two\",\"fiveeee\",\"one\",\"two\"]"
   ]
  },
  {
   "cell_type": "code",
   "execution_count": 85,
   "metadata": {},
   "outputs": [
    {
     "output_type": "execute_result",
     "data": {
      "text/plain": [
       "                   A         B         C         D        E\n",
       "2018-01-03 -0.549228 -0.443082 -0.621961 -0.860373  fiveeee\n",
       "2018-01-06  0.659080  0.303941  0.235862  0.042330  fiveeee"
      ],
      "text/html": "<div>\n<style scoped>\n    .dataframe tbody tr th:only-of-type {\n        vertical-align: middle;\n    }\n\n    .dataframe tbody tr th {\n        vertical-align: top;\n    }\n\n    .dataframe thead th {\n        text-align: right;\n    }\n</style>\n<table border=\"1\" class=\"dataframe\">\n  <thead>\n    <tr style=\"text-align: right;\">\n      <th></th>\n      <th>A</th>\n      <th>B</th>\n      <th>C</th>\n      <th>D</th>\n      <th>E</th>\n    </tr>\n  </thead>\n  <tbody>\n    <tr>\n      <th>2018-01-03</th>\n      <td>-0.549228</td>\n      <td>-0.443082</td>\n      <td>-0.621961</td>\n      <td>-0.860373</td>\n      <td>fiveeee</td>\n    </tr>\n    <tr>\n      <th>2018-01-06</th>\n      <td>0.659080</td>\n      <td>0.303941</td>\n      <td>0.235862</td>\n      <td>0.042330</td>\n      <td>fiveeee</td>\n    </tr>\n  </tbody>\n</table>\n</div>"
     },
     "metadata": {},
     "execution_count": 85
    }
   ],
   "source": [
    "tab[tab['E'].isin([\"fiveeee\"])]"
   ]
  },
  {
   "cell_type": "code",
   "execution_count": 89,
   "metadata": {},
   "outputs": [],
   "source": [
    "tab = pd.DataFrame(np.random.randn(len(date_index),4),index = date_index, columns=['A','B','C','D'])"
   ]
  },
  {
   "cell_type": "code",
   "execution_count": 90,
   "metadata": {},
   "outputs": [],
   "source": [
    "tab2 = pd.DataFrame(np.random.randn(len(date_index),4),index = date_index, columns=['A','B','C','D'])"
   ]
  },
  {
   "cell_type": "code",
   "execution_count": 92,
   "metadata": {},
   "outputs": [
    {
     "output_type": "execute_result",
     "data": {
      "text/plain": [
       "                   A         B         C         D\n",
       "2018-01-01 -0.964188  1.340239 -0.234653  1.044253\n",
       "2018-01-02 -2.259261  0.204602 -0.443232 -1.233287\n",
       "2018-01-03  2.132830  1.044078 -0.758747  0.062804\n",
       "2018-01-04  0.076715  0.889002 -0.262750  0.538707\n",
       "2018-01-05 -2.222184  2.014110 -0.102841 -0.843234\n",
       "2018-01-06 -0.524051  1.109518 -1.250568  0.098957\n",
       "2018-01-07 -1.453473  0.173052 -0.368246 -0.150256\n",
       "2018-01-08 -0.450850 -0.708734  3.062746 -0.127400\n",
       "2018-01-01 -0.249859  0.430468 -1.205021  1.534614\n",
       "2018-01-02  0.759433  1.270157 -0.637566 -0.952459\n",
       "2018-01-03 -0.460789 -0.444606  0.586000 -1.487090\n",
       "2018-01-04 -1.148919  0.250217  0.306203  0.063042\n",
       "2018-01-05 -0.480595  0.985193 -0.757811  1.854954\n",
       "2018-01-06  0.354100 -1.747374  0.217986  0.416566\n",
       "2018-01-07  0.240617 -0.174332  0.906915  1.529849\n",
       "2018-01-08  1.481326 -0.637597 -0.914119 -0.612069"
      ],
      "text/html": "<div>\n<style scoped>\n    .dataframe tbody tr th:only-of-type {\n        vertical-align: middle;\n    }\n\n    .dataframe tbody tr th {\n        vertical-align: top;\n    }\n\n    .dataframe thead th {\n        text-align: right;\n    }\n</style>\n<table border=\"1\" class=\"dataframe\">\n  <thead>\n    <tr style=\"text-align: right;\">\n      <th></th>\n      <th>A</th>\n      <th>B</th>\n      <th>C</th>\n      <th>D</th>\n    </tr>\n  </thead>\n  <tbody>\n    <tr>\n      <th>2018-01-01</th>\n      <td>-0.964188</td>\n      <td>1.340239</td>\n      <td>-0.234653</td>\n      <td>1.044253</td>\n    </tr>\n    <tr>\n      <th>2018-01-02</th>\n      <td>-2.259261</td>\n      <td>0.204602</td>\n      <td>-0.443232</td>\n      <td>-1.233287</td>\n    </tr>\n    <tr>\n      <th>2018-01-03</th>\n      <td>2.132830</td>\n      <td>1.044078</td>\n      <td>-0.758747</td>\n      <td>0.062804</td>\n    </tr>\n    <tr>\n      <th>2018-01-04</th>\n      <td>0.076715</td>\n      <td>0.889002</td>\n      <td>-0.262750</td>\n      <td>0.538707</td>\n    </tr>\n    <tr>\n      <th>2018-01-05</th>\n      <td>-2.222184</td>\n      <td>2.014110</td>\n      <td>-0.102841</td>\n      <td>-0.843234</td>\n    </tr>\n    <tr>\n      <th>2018-01-06</th>\n      <td>-0.524051</td>\n      <td>1.109518</td>\n      <td>-1.250568</td>\n      <td>0.098957</td>\n    </tr>\n    <tr>\n      <th>2018-01-07</th>\n      <td>-1.453473</td>\n      <td>0.173052</td>\n      <td>-0.368246</td>\n      <td>-0.150256</td>\n    </tr>\n    <tr>\n      <th>2018-01-08</th>\n      <td>-0.450850</td>\n      <td>-0.708734</td>\n      <td>3.062746</td>\n      <td>-0.127400</td>\n    </tr>\n    <tr>\n      <th>2018-01-01</th>\n      <td>-0.249859</td>\n      <td>0.430468</td>\n      <td>-1.205021</td>\n      <td>1.534614</td>\n    </tr>\n    <tr>\n      <th>2018-01-02</th>\n      <td>0.759433</td>\n      <td>1.270157</td>\n      <td>-0.637566</td>\n      <td>-0.952459</td>\n    </tr>\n    <tr>\n      <th>2018-01-03</th>\n      <td>-0.460789</td>\n      <td>-0.444606</td>\n      <td>0.586000</td>\n      <td>-1.487090</td>\n    </tr>\n    <tr>\n      <th>2018-01-04</th>\n      <td>-1.148919</td>\n      <td>0.250217</td>\n      <td>0.306203</td>\n      <td>0.063042</td>\n    </tr>\n    <tr>\n      <th>2018-01-05</th>\n      <td>-0.480595</td>\n      <td>0.985193</td>\n      <td>-0.757811</td>\n      <td>1.854954</td>\n    </tr>\n    <tr>\n      <th>2018-01-06</th>\n      <td>0.354100</td>\n      <td>-1.747374</td>\n      <td>0.217986</td>\n      <td>0.416566</td>\n    </tr>\n    <tr>\n      <th>2018-01-07</th>\n      <td>0.240617</td>\n      <td>-0.174332</td>\n      <td>0.906915</td>\n      <td>1.529849</td>\n    </tr>\n    <tr>\n      <th>2018-01-08</th>\n      <td>1.481326</td>\n      <td>-0.637597</td>\n      <td>-0.914119</td>\n      <td>-0.612069</td>\n    </tr>\n  </tbody>\n</table>\n</div>"
     },
     "metadata": {},
     "execution_count": 92
    }
   ],
   "source": [
    "pd.concat([tab,tab2])"
   ]
  },
  {
   "cell_type": "code",
   "execution_count": 96,
   "metadata": {},
   "outputs": [
    {
     "output_type": "execute_result",
     "data": {
      "text/plain": [
       "                   A         B         C         D         A         B  \\\n",
       "2018-01-01 -0.964188  1.340239 -0.234653  1.044253 -0.249859  0.430468   \n",
       "2018-01-02 -2.259261  0.204602 -0.443232 -1.233287  0.759433  1.270157   \n",
       "2018-01-03  2.132830  1.044078 -0.758747  0.062804 -0.460789 -0.444606   \n",
       "2018-01-04  0.076715  0.889002 -0.262750  0.538707 -1.148919  0.250217   \n",
       "2018-01-05 -2.222184  2.014110 -0.102841 -0.843234 -0.480595  0.985193   \n",
       "2018-01-06 -0.524051  1.109518 -1.250568  0.098957  0.354100 -1.747374   \n",
       "2018-01-07 -1.453473  0.173052 -0.368246 -0.150256  0.240617 -0.174332   \n",
       "2018-01-08 -0.450850 -0.708734  3.062746 -0.127400  1.481326 -0.637597   \n",
       "\n",
       "                   C         D  \n",
       "2018-01-01 -1.205021  1.534614  \n",
       "2018-01-02 -0.637566 -0.952459  \n",
       "2018-01-03  0.586000 -1.487090  \n",
       "2018-01-04  0.306203  0.063042  \n",
       "2018-01-05 -0.757811  1.854954  \n",
       "2018-01-06  0.217986  0.416566  \n",
       "2018-01-07  0.906915  1.529849  \n",
       "2018-01-08 -0.914119 -0.612069  "
      ],
      "text/html": "<div>\n<style scoped>\n    .dataframe tbody tr th:only-of-type {\n        vertical-align: middle;\n    }\n\n    .dataframe tbody tr th {\n        vertical-align: top;\n    }\n\n    .dataframe thead th {\n        text-align: right;\n    }\n</style>\n<table border=\"1\" class=\"dataframe\">\n  <thead>\n    <tr style=\"text-align: right;\">\n      <th></th>\n      <th>A</th>\n      <th>B</th>\n      <th>C</th>\n      <th>D</th>\n      <th>A</th>\n      <th>B</th>\n      <th>C</th>\n      <th>D</th>\n    </tr>\n  </thead>\n  <tbody>\n    <tr>\n      <th>2018-01-01</th>\n      <td>-0.964188</td>\n      <td>1.340239</td>\n      <td>-0.234653</td>\n      <td>1.044253</td>\n      <td>-0.249859</td>\n      <td>0.430468</td>\n      <td>-1.205021</td>\n      <td>1.534614</td>\n    </tr>\n    <tr>\n      <th>2018-01-02</th>\n      <td>-2.259261</td>\n      <td>0.204602</td>\n      <td>-0.443232</td>\n      <td>-1.233287</td>\n      <td>0.759433</td>\n      <td>1.270157</td>\n      <td>-0.637566</td>\n      <td>-0.952459</td>\n    </tr>\n    <tr>\n      <th>2018-01-03</th>\n      <td>2.132830</td>\n      <td>1.044078</td>\n      <td>-0.758747</td>\n      <td>0.062804</td>\n      <td>-0.460789</td>\n      <td>-0.444606</td>\n      <td>0.586000</td>\n      <td>-1.487090</td>\n    </tr>\n    <tr>\n      <th>2018-01-04</th>\n      <td>0.076715</td>\n      <td>0.889002</td>\n      <td>-0.262750</td>\n      <td>0.538707</td>\n      <td>-1.148919</td>\n      <td>0.250217</td>\n      <td>0.306203</td>\n      <td>0.063042</td>\n    </tr>\n    <tr>\n      <th>2018-01-05</th>\n      <td>-2.222184</td>\n      <td>2.014110</td>\n      <td>-0.102841</td>\n      <td>-0.843234</td>\n      <td>-0.480595</td>\n      <td>0.985193</td>\n      <td>-0.757811</td>\n      <td>1.854954</td>\n    </tr>\n    <tr>\n      <th>2018-01-06</th>\n      <td>-0.524051</td>\n      <td>1.109518</td>\n      <td>-1.250568</td>\n      <td>0.098957</td>\n      <td>0.354100</td>\n      <td>-1.747374</td>\n      <td>0.217986</td>\n      <td>0.416566</td>\n    </tr>\n    <tr>\n      <th>2018-01-07</th>\n      <td>-1.453473</td>\n      <td>0.173052</td>\n      <td>-0.368246</td>\n      <td>-0.150256</td>\n      <td>0.240617</td>\n      <td>-0.174332</td>\n      <td>0.906915</td>\n      <td>1.529849</td>\n    </tr>\n    <tr>\n      <th>2018-01-08</th>\n      <td>-0.450850</td>\n      <td>-0.708734</td>\n      <td>3.062746</td>\n      <td>-0.127400</td>\n      <td>1.481326</td>\n      <td>-0.637597</td>\n      <td>-0.914119</td>\n      <td>-0.612069</td>\n    </tr>\n  </tbody>\n</table>\n</div>"
     },
     "metadata": {},
     "execution_count": 96
    }
   ],
   "source": [
    "pd.concat([tab,tab2], axis = 1)"
   ]
  },
  {
   "cell_type": "code",
   "execution_count": 97,
   "metadata": {},
   "outputs": [],
   "source": [
    "left = pd.DataFrame({\"key\": [\"foo\", \"foo\"], \"lval\": [1, 2]})"
   ]
  },
  {
   "cell_type": "code",
   "execution_count": 98,
   "metadata": {},
   "outputs": [],
   "source": [
    "right = pd.DataFrame({\"key\": [\"foo\", \"foo\"], \"rval\": [4, 5]})"
   ]
  },
  {
   "cell_type": "code",
   "execution_count": 101,
   "metadata": {},
   "outputs": [
    {
     "output_type": "execute_result",
     "data": {
      "text/plain": [
       "   key  lval  rval\n",
       "0  foo     1     4\n",
       "1  foo     1     5\n",
       "2  foo     2     4\n",
       "3  foo     2     5"
      ],
      "text/html": "<div>\n<style scoped>\n    .dataframe tbody tr th:only-of-type {\n        vertical-align: middle;\n    }\n\n    .dataframe tbody tr th {\n        vertical-align: top;\n    }\n\n    .dataframe thead th {\n        text-align: right;\n    }\n</style>\n<table border=\"1\" class=\"dataframe\">\n  <thead>\n    <tr style=\"text-align: right;\">\n      <th></th>\n      <th>key</th>\n      <th>lval</th>\n      <th>rval</th>\n    </tr>\n  </thead>\n  <tbody>\n    <tr>\n      <th>0</th>\n      <td>foo</td>\n      <td>1</td>\n      <td>4</td>\n    </tr>\n    <tr>\n      <th>1</th>\n      <td>foo</td>\n      <td>1</td>\n      <td>5</td>\n    </tr>\n    <tr>\n      <th>2</th>\n      <td>foo</td>\n      <td>2</td>\n      <td>4</td>\n    </tr>\n    <tr>\n      <th>3</th>\n      <td>foo</td>\n      <td>2</td>\n      <td>5</td>\n    </tr>\n  </tbody>\n</table>\n</div>"
     },
     "metadata": {},
     "execution_count": 101
    }
   ],
   "source": [
    "pd.merge(left, right, on=\"key\")"
   ]
  },
  {
   "cell_type": "code",
   "execution_count": 102,
   "metadata": {},
   "outputs": [],
   "source": [
    "df = pd.DataFrame({\"A\": [\"foo\", \"bar\", \"foo\", \"bar\", \"foo\", \"bar\", \"foo\", \"foo\"],\"B\": [\"one\", \"one\", \"two\", \"three\", \"two\", \"two\", \"one\", \"three\"],\"C\": np.random.randn(8),\"D\": np.random.randn(8),})"
   ]
  },
  {
   "cell_type": "code",
   "execution_count": 103,
   "metadata": {},
   "outputs": [
    {
     "output_type": "execute_result",
     "data": {
      "text/plain": [
       "     A      B         C         D\n",
       "0  foo    one  0.429139 -0.421879\n",
       "1  bar    one  1.112434 -1.830183\n",
       "2  foo    two -0.206636  1.227099\n",
       "3  bar  three  1.183080  0.745343\n",
       "4  foo    two  0.498541  0.445264\n",
       "5  bar    two  0.601737 -1.518943\n",
       "6  foo    one  0.078517  1.733847\n",
       "7  foo  three  0.380448 -0.214885"
      ],
      "text/html": "<div>\n<style scoped>\n    .dataframe tbody tr th:only-of-type {\n        vertical-align: middle;\n    }\n\n    .dataframe tbody tr th {\n        vertical-align: top;\n    }\n\n    .dataframe thead th {\n        text-align: right;\n    }\n</style>\n<table border=\"1\" class=\"dataframe\">\n  <thead>\n    <tr style=\"text-align: right;\">\n      <th></th>\n      <th>A</th>\n      <th>B</th>\n      <th>C</th>\n      <th>D</th>\n    </tr>\n  </thead>\n  <tbody>\n    <tr>\n      <th>0</th>\n      <td>foo</td>\n      <td>one</td>\n      <td>0.429139</td>\n      <td>-0.421879</td>\n    </tr>\n    <tr>\n      <th>1</th>\n      <td>bar</td>\n      <td>one</td>\n      <td>1.112434</td>\n      <td>-1.830183</td>\n    </tr>\n    <tr>\n      <th>2</th>\n      <td>foo</td>\n      <td>two</td>\n      <td>-0.206636</td>\n      <td>1.227099</td>\n    </tr>\n    <tr>\n      <th>3</th>\n      <td>bar</td>\n      <td>three</td>\n      <td>1.183080</td>\n      <td>0.745343</td>\n    </tr>\n    <tr>\n      <th>4</th>\n      <td>foo</td>\n      <td>two</td>\n      <td>0.498541</td>\n      <td>0.445264</td>\n    </tr>\n    <tr>\n      <th>5</th>\n      <td>bar</td>\n      <td>two</td>\n      <td>0.601737</td>\n      <td>-1.518943</td>\n    </tr>\n    <tr>\n      <th>6</th>\n      <td>foo</td>\n      <td>one</td>\n      <td>0.078517</td>\n      <td>1.733847</td>\n    </tr>\n    <tr>\n      <th>7</th>\n      <td>foo</td>\n      <td>three</td>\n      <td>0.380448</td>\n      <td>-0.214885</td>\n    </tr>\n  </tbody>\n</table>\n</div>"
     },
     "metadata": {},
     "execution_count": 103
    }
   ],
   "source": [
    "df"
   ]
  },
  {
   "cell_type": "code",
   "execution_count": 104,
   "metadata": {},
   "outputs": [
    {
     "output_type": "execute_result",
     "data": {
      "text/plain": [
       "            C         D\n",
       "A                      \n",
       "bar  2.897252 -2.603783\n",
       "foo  1.180009  2.769447"
      ],
      "text/html": "<div>\n<style scoped>\n    .dataframe tbody tr th:only-of-type {\n        vertical-align: middle;\n    }\n\n    .dataframe tbody tr th {\n        vertical-align: top;\n    }\n\n    .dataframe thead th {\n        text-align: right;\n    }\n</style>\n<table border=\"1\" class=\"dataframe\">\n  <thead>\n    <tr style=\"text-align: right;\">\n      <th></th>\n      <th>C</th>\n      <th>D</th>\n    </tr>\n    <tr>\n      <th>A</th>\n      <th></th>\n      <th></th>\n    </tr>\n  </thead>\n  <tbody>\n    <tr>\n      <th>bar</th>\n      <td>2.897252</td>\n      <td>-2.603783</td>\n    </tr>\n    <tr>\n      <th>foo</th>\n      <td>1.180009</td>\n      <td>2.769447</td>\n    </tr>\n  </tbody>\n</table>\n</div>"
     },
     "metadata": {},
     "execution_count": 104
    }
   ],
   "source": [
    "df.groupby(\"A\").sum()"
   ]
  },
  {
   "cell_type": "code",
   "execution_count": 105,
   "metadata": {},
   "outputs": [
    {
     "output_type": "execute_result",
     "data": {
      "text/plain": [
       "                  C         D\n",
       "A   B                        \n",
       "bar one    1.112434 -1.830183\n",
       "    three  1.183080  0.745343\n",
       "    two    0.601737 -1.518943\n",
       "foo one    0.507656  1.311968\n",
       "    three  0.380448 -0.214885\n",
       "    two    0.291905  1.672363"
      ],
      "text/html": "<div>\n<style scoped>\n    .dataframe tbody tr th:only-of-type {\n        vertical-align: middle;\n    }\n\n    .dataframe tbody tr th {\n        vertical-align: top;\n    }\n\n    .dataframe thead th {\n        text-align: right;\n    }\n</style>\n<table border=\"1\" class=\"dataframe\">\n  <thead>\n    <tr style=\"text-align: right;\">\n      <th></th>\n      <th></th>\n      <th>C</th>\n      <th>D</th>\n    </tr>\n    <tr>\n      <th>A</th>\n      <th>B</th>\n      <th></th>\n      <th></th>\n    </tr>\n  </thead>\n  <tbody>\n    <tr>\n      <th rowspan=\"3\" valign=\"top\">bar</th>\n      <th>one</th>\n      <td>1.112434</td>\n      <td>-1.830183</td>\n    </tr>\n    <tr>\n      <th>three</th>\n      <td>1.183080</td>\n      <td>0.745343</td>\n    </tr>\n    <tr>\n      <th>two</th>\n      <td>0.601737</td>\n      <td>-1.518943</td>\n    </tr>\n    <tr>\n      <th rowspan=\"3\" valign=\"top\">foo</th>\n      <th>one</th>\n      <td>0.507656</td>\n      <td>1.311968</td>\n    </tr>\n    <tr>\n      <th>three</th>\n      <td>0.380448</td>\n      <td>-0.214885</td>\n    </tr>\n    <tr>\n      <th>two</th>\n      <td>0.291905</td>\n      <td>1.672363</td>\n    </tr>\n  </tbody>\n</table>\n</div>"
     },
     "metadata": {},
     "execution_count": 105
    }
   ],
   "source": [
    "df.groupby([\"A\",\"B\"]).sum()"
   ]
  },
  {
   "cell_type": "code",
   "execution_count": 106,
   "metadata": {},
   "outputs": [],
   "source": [
    "foo_bar = pd.DataFrame({\"A\": [\"one\", \"one\", \"two\", \"three\"] * 3,\"B\": [\"A\", \"B\", \"C\"] * 4,\"C\": [\"foo\", \"foo\", \"foo\", \"bar\", \"bar\", \"bar\"] * 2, \"D\": np.random.randn(12),\"E\": np.random.randn(12),})"
   ]
  },
  {
   "cell_type": "code",
   "execution_count": 107,
   "metadata": {},
   "outputs": [
    {
     "output_type": "execute_result",
     "data": {
      "text/plain": [
       "        A  B    C         D         E\n",
       "0     one  A  foo -1.432693 -0.639548\n",
       "1     one  B  foo  0.658837  2.236258\n",
       "2     two  C  foo -0.226766 -0.093929\n",
       "3   three  A  bar -0.859598 -2.108200\n",
       "4     one  B  bar -0.332059 -0.542446\n",
       "5     one  C  bar -0.634381  0.240419\n",
       "6     two  A  foo -1.662542 -0.596954\n",
       "7   three  B  foo -0.814299  1.344102\n",
       "8     one  C  foo -0.038489 -0.170734\n",
       "9     one  A  bar  0.648199 -0.449925\n",
       "10    two  B  bar  0.696933  1.137627\n",
       "11  three  C  bar -2.434509 -0.163138"
      ],
      "text/html": "<div>\n<style scoped>\n    .dataframe tbody tr th:only-of-type {\n        vertical-align: middle;\n    }\n\n    .dataframe tbody tr th {\n        vertical-align: top;\n    }\n\n    .dataframe thead th {\n        text-align: right;\n    }\n</style>\n<table border=\"1\" class=\"dataframe\">\n  <thead>\n    <tr style=\"text-align: right;\">\n      <th></th>\n      <th>A</th>\n      <th>B</th>\n      <th>C</th>\n      <th>D</th>\n      <th>E</th>\n    </tr>\n  </thead>\n  <tbody>\n    <tr>\n      <th>0</th>\n      <td>one</td>\n      <td>A</td>\n      <td>foo</td>\n      <td>-1.432693</td>\n      <td>-0.639548</td>\n    </tr>\n    <tr>\n      <th>1</th>\n      <td>one</td>\n      <td>B</td>\n      <td>foo</td>\n      <td>0.658837</td>\n      <td>2.236258</td>\n    </tr>\n    <tr>\n      <th>2</th>\n      <td>two</td>\n      <td>C</td>\n      <td>foo</td>\n      <td>-0.226766</td>\n      <td>-0.093929</td>\n    </tr>\n    <tr>\n      <th>3</th>\n      <td>three</td>\n      <td>A</td>\n      <td>bar</td>\n      <td>-0.859598</td>\n      <td>-2.108200</td>\n    </tr>\n    <tr>\n      <th>4</th>\n      <td>one</td>\n      <td>B</td>\n      <td>bar</td>\n      <td>-0.332059</td>\n      <td>-0.542446</td>\n    </tr>\n    <tr>\n      <th>5</th>\n      <td>one</td>\n      <td>C</td>\n      <td>bar</td>\n      <td>-0.634381</td>\n      <td>0.240419</td>\n    </tr>\n    <tr>\n      <th>6</th>\n      <td>two</td>\n      <td>A</td>\n      <td>foo</td>\n      <td>-1.662542</td>\n      <td>-0.596954</td>\n    </tr>\n    <tr>\n      <th>7</th>\n      <td>three</td>\n      <td>B</td>\n      <td>foo</td>\n      <td>-0.814299</td>\n      <td>1.344102</td>\n    </tr>\n    <tr>\n      <th>8</th>\n      <td>one</td>\n      <td>C</td>\n      <td>foo</td>\n      <td>-0.038489</td>\n      <td>-0.170734</td>\n    </tr>\n    <tr>\n      <th>9</th>\n      <td>one</td>\n      <td>A</td>\n      <td>bar</td>\n      <td>0.648199</td>\n      <td>-0.449925</td>\n    </tr>\n    <tr>\n      <th>10</th>\n      <td>two</td>\n      <td>B</td>\n      <td>bar</td>\n      <td>0.696933</td>\n      <td>1.137627</td>\n    </tr>\n    <tr>\n      <th>11</th>\n      <td>three</td>\n      <td>C</td>\n      <td>bar</td>\n      <td>-2.434509</td>\n      <td>-0.163138</td>\n    </tr>\n  </tbody>\n</table>\n</div>"
     },
     "metadata": {},
     "execution_count": 107
    }
   ],
   "source": [
    "foo_bar"
   ]
  },
  {
   "cell_type": "code",
   "execution_count": 111,
   "metadata": {},
   "outputs": [
    {
     "output_type": "execute_result",
     "data": {
      "text/plain": [
       "C             bar       foo\n",
       "A     B                    \n",
       "one   A  0.648199 -1.432693\n",
       "      B -0.332059  0.658837\n",
       "      C -0.634381 -0.038489\n",
       "three A -0.859598       NaN\n",
       "      B       NaN -0.814299\n",
       "      C -2.434509       NaN\n",
       "two   A       NaN -1.662542\n",
       "      B  0.696933       NaN\n",
       "      C       NaN -0.226766"
      ],
      "text/html": "<div>\n<style scoped>\n    .dataframe tbody tr th:only-of-type {\n        vertical-align: middle;\n    }\n\n    .dataframe tbody tr th {\n        vertical-align: top;\n    }\n\n    .dataframe thead th {\n        text-align: right;\n    }\n</style>\n<table border=\"1\" class=\"dataframe\">\n  <thead>\n    <tr style=\"text-align: right;\">\n      <th></th>\n      <th>C</th>\n      <th>bar</th>\n      <th>foo</th>\n    </tr>\n    <tr>\n      <th>A</th>\n      <th>B</th>\n      <th></th>\n      <th></th>\n    </tr>\n  </thead>\n  <tbody>\n    <tr>\n      <th rowspan=\"3\" valign=\"top\">one</th>\n      <th>A</th>\n      <td>0.648199</td>\n      <td>-1.432693</td>\n    </tr>\n    <tr>\n      <th>B</th>\n      <td>-0.332059</td>\n      <td>0.658837</td>\n    </tr>\n    <tr>\n      <th>C</th>\n      <td>-0.634381</td>\n      <td>-0.038489</td>\n    </tr>\n    <tr>\n      <th rowspan=\"3\" valign=\"top\">three</th>\n      <th>A</th>\n      <td>-0.859598</td>\n      <td>NaN</td>\n    </tr>\n    <tr>\n      <th>B</th>\n      <td>NaN</td>\n      <td>-0.814299</td>\n    </tr>\n    <tr>\n      <th>C</th>\n      <td>-2.434509</td>\n      <td>NaN</td>\n    </tr>\n    <tr>\n      <th rowspan=\"3\" valign=\"top\">two</th>\n      <th>A</th>\n      <td>NaN</td>\n      <td>-1.662542</td>\n    </tr>\n    <tr>\n      <th>B</th>\n      <td>0.696933</td>\n      <td>NaN</td>\n    </tr>\n    <tr>\n      <th>C</th>\n      <td>NaN</td>\n      <td>-0.226766</td>\n    </tr>\n  </tbody>\n</table>\n</div>"
     },
     "metadata": {},
     "execution_count": 111
    }
   ],
   "source": [
    "pd.pivot_table(foo_bar,values='D',index = [\"A\",\"B\"],columns=\"C\")"
   ]
  },
  {
   "cell_type": "code",
   "execution_count": 127,
   "metadata": {},
   "outputs": [],
   "source": [
    "grid = np.zeros([200,200])\n",
    "grid[:39,:199] = 19\n"
   ]
  },
  {
   "cell_type": "code",
   "execution_count": 128,
   "metadata": {},
   "outputs": [
    {
     "output_type": "execute_result",
     "data": {
      "text/plain": [
       "<matplotlib.image.AxesImage at 0x1c0121b2f10>"
      ]
     },
     "metadata": {},
     "execution_count": 128
    },
    {
     "output_type": "display_data",
     "data": {
      "text/plain": "<Figure size 432x288 with 1 Axes>",
      "image/svg+xml": "<?xml version=\"1.0\" encoding=\"utf-8\" standalone=\"no\"?>\r\n<!DOCTYPE svg PUBLIC \"-//W3C//DTD SVG 1.1//EN\"\r\n  \"http://www.w3.org/Graphics/SVG/1.1/DTD/svg11.dtd\">\r\n<svg height=\"251.773744pt\" version=\"1.1\" viewBox=\"0 0 257.9275 251.773744\" width=\"257.9275pt\" xmlns=\"http://www.w3.org/2000/svg\" xmlns:xlink=\"http://www.w3.org/1999/xlink\">\r\n <metadata>\r\n  <rdf:RDF xmlns:cc=\"http://creativecommons.org/ns#\" xmlns:dc=\"http://purl.org/dc/elements/1.1/\" xmlns:rdf=\"http://www.w3.org/1999/02/22-rdf-syntax-ns#\">\r\n   <cc:Work>\r\n    <dc:type rdf:resource=\"http://purl.org/dc/dcmitype/StillImage\"/>\r\n    <dc:date>2021-06-21T06:32:34.590137</dc:date>\r\n    <dc:format>image/svg+xml</dc:format>\r\n    <dc:creator>\r\n     <cc:Agent>\r\n      <dc:title>Matplotlib v3.4.2, https://matplotlib.org/</dc:title>\r\n     </cc:Agent>\r\n    </dc:creator>\r\n   </cc:Work>\r\n  </rdf:RDF>\r\n </metadata>\r\n <defs>\r\n  <style type=\"text/css\">*{stroke-linecap:butt;stroke-linejoin:round;}</style>\r\n </defs>\r\n <g id=\"figure_1\">\r\n  <g id=\"patch_1\">\r\n   <path d=\"M 0 251.773744 \r\nL 257.9275 251.773744 \r\nL 257.9275 0 \r\nL 0 0 \r\nz\r\n\" style=\"fill:none;\"/>\r\n  </g>\r\n  <g id=\"axes_1\">\r\n   <g id=\"patch_2\">\r\n    <path d=\"M 33.2875 227.895619 \r\nL 250.7275 227.895619 \r\nL 250.7275 10.455619 \r\nL 33.2875 10.455619 \r\nz\r\n\" style=\"fill:#ffffff;\"/>\r\n   </g>\r\n   <g clip-path=\"url(#p443388cc63)\">\r\n    <image height=\"218\" id=\"image5a905041ed\" transform=\"scale(1 -1)translate(0 -218)\" width=\"218\" x=\"33.2875\" xlink:href=\"data:image/png;base64,\r\niVBORw0KGgoAAAANSUhEUgAAANoAAADaCAYAAADAHVzbAAACpElEQVR4nO3WsQ1BYQCF0feLOTQMoVAawQCWsIetLKG3gA5hCt9LOGeC23zJHftxeE/AVy3mHgD/QGgQEBoEhAYBoUFAaBAQGgSEBgGhQUBoEBAaBIQGAaFBQGgQEBoEhAYBoUFAaBAQGgSEBgGhQUBoEBAaBIQGAaFBQGgQEBoEhAYBoUFAaBAQGgSEBgGhQUBoEBAaBIQGAaFBQGgQEBoEhAYBoUFAaBAQGgSEBgGhQUBoEBAaBIQGAaFBQGgQEBoEhAYBoUFAaBAQGgSEBgGhQUBoEBAaBIQGAaFBQGgQEBoEhAYBoUFAaBAQGgSEBgGhQUBoEBAaBIQGAaFBQGgQEBoEhAYBoUFAaBAQGgSEBgGhQUBoEBAaBIQGAaFBQGgQEBoEhAYBoUFAaBAQGgSEBgGhQUBoEBAaBIQGAaFBQGgQEBoEhAYBoUFAaBAQGgSEBgGhQUBoEBAaBIQGAaFBQGgQEBoEhAYBoUFAaBAQGgSEBgGhQUBoEBAaBIQGAaFBQGgQEBoEhAYBoUFAaBAQGgSEBgGhQUBoEBAaBIQGAaFBQGgQEBoEhAYBoUFAaBAQGgSEBgGhQUBoEBAaBIQGAaFBQGgQEBoEhAYBoUFAaBAQGgSEBgGhQUBoEBAaBIQGAaFBQGgQEBoEhAYBoUFAaBAQGgSEBgGhQUBoEBAaBIQGAaFBQGgQEBoEhAYBoUFAaBBYXs/buTfAzxqPMa1Pl2m8bpv33GPgV92e9+m42rmOUBAaBIQGAaFBQGgQEBoEhAYBoUFAaBAQGgSEBgGhQUBoEBAaBIQGAaFBQGgQEBoEhAYBoUFAaBAQGgSEBgGhQUBoEBAaBIQGAaFBQGgQEBoEhAYBoUFAaBAQGgSEBgGhQUBoEBAaBIQGAaFBQGgQ+ADwlg3l+gzslQAAAABJRU5ErkJggg==\" y=\"-9.895619\"/>\r\n   </g>\r\n   <g id=\"matplotlib.axis_1\">\r\n    <g id=\"xtick_1\">\r\n     <g id=\"line2d_1\">\r\n      <defs>\r\n       <path d=\"M 0 0 \r\nL 0 3.5 \r\n\" id=\"mbef1a04adc\" style=\"stroke:#000000;stroke-width:0.8;\"/>\r\n      </defs>\r\n      <g>\r\n       <use style=\"stroke:#000000;stroke-width:0.8;\" x=\"33.8311\" xlink:href=\"#mbef1a04adc\" y=\"227.895619\"/>\r\n      </g>\r\n     </g>\r\n     <g id=\"text_1\">\r\n      <!-- 0 -->\r\n      <g transform=\"translate(30.64985 242.494056)scale(0.1 -0.1)\">\r\n       <defs>\r\n        <path d=\"M 2034 4250 \r\nQ 1547 4250 1301 3770 \r\nQ 1056 3291 1056 2328 \r\nQ 1056 1369 1301 889 \r\nQ 1547 409 2034 409 \r\nQ 2525 409 2770 889 \r\nQ 3016 1369 3016 2328 \r\nQ 3016 3291 2770 3770 \r\nQ 2525 4250 2034 4250 \r\nz\r\nM 2034 4750 \r\nQ 2819 4750 3233 4129 \r\nQ 3647 3509 3647 2328 \r\nQ 3647 1150 3233 529 \r\nQ 2819 -91 2034 -91 \r\nQ 1250 -91 836 529 \r\nQ 422 1150 422 2328 \r\nQ 422 3509 836 4129 \r\nQ 1250 4750 2034 4750 \r\nz\r\n\" id=\"DejaVuSans-30\" transform=\"scale(0.015625)\"/>\r\n       </defs>\r\n       <use xlink:href=\"#DejaVuSans-30\"/>\r\n      </g>\r\n     </g>\r\n    </g>\r\n    <g id=\"xtick_2\">\r\n     <g id=\"line2d_2\">\r\n      <g>\r\n       <use style=\"stroke:#000000;stroke-width:0.8;\" x=\"88.1911\" xlink:href=\"#mbef1a04adc\" y=\"227.895619\"/>\r\n      </g>\r\n     </g>\r\n     <g id=\"text_2\">\r\n      <!-- 50 -->\r\n      <g transform=\"translate(81.8286 242.494056)scale(0.1 -0.1)\">\r\n       <defs>\r\n        <path d=\"M 691 4666 \r\nL 3169 4666 \r\nL 3169 4134 \r\nL 1269 4134 \r\nL 1269 2991 \r\nQ 1406 3038 1543 3061 \r\nQ 1681 3084 1819 3084 \r\nQ 2600 3084 3056 2656 \r\nQ 3513 2228 3513 1497 \r\nQ 3513 744 3044 326 \r\nQ 2575 -91 1722 -91 \r\nQ 1428 -91 1123 -41 \r\nQ 819 9 494 109 \r\nL 494 744 \r\nQ 775 591 1075 516 \r\nQ 1375 441 1709 441 \r\nQ 2250 441 2565 725 \r\nQ 2881 1009 2881 1497 \r\nQ 2881 1984 2565 2268 \r\nQ 2250 2553 1709 2553 \r\nQ 1456 2553 1204 2497 \r\nQ 953 2441 691 2322 \r\nL 691 4666 \r\nz\r\n\" id=\"DejaVuSans-35\" transform=\"scale(0.015625)\"/>\r\n       </defs>\r\n       <use xlink:href=\"#DejaVuSans-35\"/>\r\n       <use x=\"63.623047\" xlink:href=\"#DejaVuSans-30\"/>\r\n      </g>\r\n     </g>\r\n    </g>\r\n    <g id=\"xtick_3\">\r\n     <g id=\"line2d_3\">\r\n      <g>\r\n       <use style=\"stroke:#000000;stroke-width:0.8;\" x=\"142.5511\" xlink:href=\"#mbef1a04adc\" y=\"227.895619\"/>\r\n      </g>\r\n     </g>\r\n     <g id=\"text_3\">\r\n      <!-- 100 -->\r\n      <g transform=\"translate(133.00735 242.494056)scale(0.1 -0.1)\">\r\n       <defs>\r\n        <path d=\"M 794 531 \r\nL 1825 531 \r\nL 1825 4091 \r\nL 703 3866 \r\nL 703 4441 \r\nL 1819 4666 \r\nL 2450 4666 \r\nL 2450 531 \r\nL 3481 531 \r\nL 3481 0 \r\nL 794 0 \r\nL 794 531 \r\nz\r\n\" id=\"DejaVuSans-31\" transform=\"scale(0.015625)\"/>\r\n       </defs>\r\n       <use xlink:href=\"#DejaVuSans-31\"/>\r\n       <use x=\"63.623047\" xlink:href=\"#DejaVuSans-30\"/>\r\n       <use x=\"127.246094\" xlink:href=\"#DejaVuSans-30\"/>\r\n      </g>\r\n     </g>\r\n    </g>\r\n    <g id=\"xtick_4\">\r\n     <g id=\"line2d_4\">\r\n      <g>\r\n       <use style=\"stroke:#000000;stroke-width:0.8;\" x=\"196.9111\" xlink:href=\"#mbef1a04adc\" y=\"227.895619\"/>\r\n      </g>\r\n     </g>\r\n     <g id=\"text_4\">\r\n      <!-- 150 -->\r\n      <g transform=\"translate(187.36735 242.494056)scale(0.1 -0.1)\">\r\n       <use xlink:href=\"#DejaVuSans-31\"/>\r\n       <use x=\"63.623047\" xlink:href=\"#DejaVuSans-35\"/>\r\n       <use x=\"127.246094\" xlink:href=\"#DejaVuSans-30\"/>\r\n      </g>\r\n     </g>\r\n    </g>\r\n   </g>\r\n   <g id=\"matplotlib.axis_2\">\r\n    <g id=\"ytick_1\">\r\n     <g id=\"line2d_5\">\r\n      <defs>\r\n       <path d=\"M 0 0 \r\nL -3.5 0 \r\n\" id=\"meca55ab83c\" style=\"stroke:#000000;stroke-width:0.8;\"/>\r\n      </defs>\r\n      <g>\r\n       <use style=\"stroke:#000000;stroke-width:0.8;\" x=\"33.2875\" xlink:href=\"#meca55ab83c\" y=\"10.999219\"/>\r\n      </g>\r\n     </g>\r\n     <g id=\"text_5\">\r\n      <!-- 0 -->\r\n      <g transform=\"translate(19.925 14.798437)scale(0.1 -0.1)\">\r\n       <use xlink:href=\"#DejaVuSans-30\"/>\r\n      </g>\r\n     </g>\r\n    </g>\r\n    <g id=\"ytick_2\">\r\n     <g id=\"line2d_6\">\r\n      <g>\r\n       <use style=\"stroke:#000000;stroke-width:0.8;\" x=\"33.2875\" xlink:href=\"#meca55ab83c\" y=\"38.179219\"/>\r\n      </g>\r\n     </g>\r\n     <g id=\"text_6\">\r\n      <!-- 25 -->\r\n      <g transform=\"translate(13.5625 41.978437)scale(0.1 -0.1)\">\r\n       <defs>\r\n        <path d=\"M 1228 531 \r\nL 3431 531 \r\nL 3431 0 \r\nL 469 0 \r\nL 469 531 \r\nQ 828 903 1448 1529 \r\nQ 2069 2156 2228 2338 \r\nQ 2531 2678 2651 2914 \r\nQ 2772 3150 2772 3378 \r\nQ 2772 3750 2511 3984 \r\nQ 2250 4219 1831 4219 \r\nQ 1534 4219 1204 4116 \r\nQ 875 4013 500 3803 \r\nL 500 4441 \r\nQ 881 4594 1212 4672 \r\nQ 1544 4750 1819 4750 \r\nQ 2544 4750 2975 4387 \r\nQ 3406 4025 3406 3419 \r\nQ 3406 3131 3298 2873 \r\nQ 3191 2616 2906 2266 \r\nQ 2828 2175 2409 1742 \r\nQ 1991 1309 1228 531 \r\nz\r\n\" id=\"DejaVuSans-32\" transform=\"scale(0.015625)\"/>\r\n       </defs>\r\n       <use xlink:href=\"#DejaVuSans-32\"/>\r\n       <use x=\"63.623047\" xlink:href=\"#DejaVuSans-35\"/>\r\n      </g>\r\n     </g>\r\n    </g>\r\n    <g id=\"ytick_3\">\r\n     <g id=\"line2d_7\">\r\n      <g>\r\n       <use style=\"stroke:#000000;stroke-width:0.8;\" x=\"33.2875\" xlink:href=\"#meca55ab83c\" y=\"65.359219\"/>\r\n      </g>\r\n     </g>\r\n     <g id=\"text_7\">\r\n      <!-- 50 -->\r\n      <g transform=\"translate(13.5625 69.158437)scale(0.1 -0.1)\">\r\n       <use xlink:href=\"#DejaVuSans-35\"/>\r\n       <use x=\"63.623047\" xlink:href=\"#DejaVuSans-30\"/>\r\n      </g>\r\n     </g>\r\n    </g>\r\n    <g id=\"ytick_4\">\r\n     <g id=\"line2d_8\">\r\n      <g>\r\n       <use style=\"stroke:#000000;stroke-width:0.8;\" x=\"33.2875\" xlink:href=\"#meca55ab83c\" y=\"92.539219\"/>\r\n      </g>\r\n     </g>\r\n     <g id=\"text_8\">\r\n      <!-- 75 -->\r\n      <g transform=\"translate(13.5625 96.338437)scale(0.1 -0.1)\">\r\n       <defs>\r\n        <path d=\"M 525 4666 \r\nL 3525 4666 \r\nL 3525 4397 \r\nL 1831 0 \r\nL 1172 0 \r\nL 2766 4134 \r\nL 525 4134 \r\nL 525 4666 \r\nz\r\n\" id=\"DejaVuSans-37\" transform=\"scale(0.015625)\"/>\r\n       </defs>\r\n       <use xlink:href=\"#DejaVuSans-37\"/>\r\n       <use x=\"63.623047\" xlink:href=\"#DejaVuSans-35\"/>\r\n      </g>\r\n     </g>\r\n    </g>\r\n    <g id=\"ytick_5\">\r\n     <g id=\"line2d_9\">\r\n      <g>\r\n       <use style=\"stroke:#000000;stroke-width:0.8;\" x=\"33.2875\" xlink:href=\"#meca55ab83c\" y=\"119.719219\"/>\r\n      </g>\r\n     </g>\r\n     <g id=\"text_9\">\r\n      <!-- 100 -->\r\n      <g transform=\"translate(7.2 123.518437)scale(0.1 -0.1)\">\r\n       <use xlink:href=\"#DejaVuSans-31\"/>\r\n       <use x=\"63.623047\" xlink:href=\"#DejaVuSans-30\"/>\r\n       <use x=\"127.246094\" xlink:href=\"#DejaVuSans-30\"/>\r\n      </g>\r\n     </g>\r\n    </g>\r\n    <g id=\"ytick_6\">\r\n     <g id=\"line2d_10\">\r\n      <g>\r\n       <use style=\"stroke:#000000;stroke-width:0.8;\" x=\"33.2875\" xlink:href=\"#meca55ab83c\" y=\"146.899219\"/>\r\n      </g>\r\n     </g>\r\n     <g id=\"text_10\">\r\n      <!-- 125 -->\r\n      <g transform=\"translate(7.2 150.698437)scale(0.1 -0.1)\">\r\n       <use xlink:href=\"#DejaVuSans-31\"/>\r\n       <use x=\"63.623047\" xlink:href=\"#DejaVuSans-32\"/>\r\n       <use x=\"127.246094\" xlink:href=\"#DejaVuSans-35\"/>\r\n      </g>\r\n     </g>\r\n    </g>\r\n    <g id=\"ytick_7\">\r\n     <g id=\"line2d_11\">\r\n      <g>\r\n       <use style=\"stroke:#000000;stroke-width:0.8;\" x=\"33.2875\" xlink:href=\"#meca55ab83c\" y=\"174.079219\"/>\r\n      </g>\r\n     </g>\r\n     <g id=\"text_11\">\r\n      <!-- 150 -->\r\n      <g transform=\"translate(7.2 177.878437)scale(0.1 -0.1)\">\r\n       <use xlink:href=\"#DejaVuSans-31\"/>\r\n       <use x=\"63.623047\" xlink:href=\"#DejaVuSans-35\"/>\r\n       <use x=\"127.246094\" xlink:href=\"#DejaVuSans-30\"/>\r\n      </g>\r\n     </g>\r\n    </g>\r\n    <g id=\"ytick_8\">\r\n     <g id=\"line2d_12\">\r\n      <g>\r\n       <use style=\"stroke:#000000;stroke-width:0.8;\" x=\"33.2875\" xlink:href=\"#meca55ab83c\" y=\"201.259219\"/>\r\n      </g>\r\n     </g>\r\n     <g id=\"text_12\">\r\n      <!-- 175 -->\r\n      <g transform=\"translate(7.2 205.058437)scale(0.1 -0.1)\">\r\n       <use xlink:href=\"#DejaVuSans-31\"/>\r\n       <use x=\"63.623047\" xlink:href=\"#DejaVuSans-37\"/>\r\n       <use x=\"127.246094\" xlink:href=\"#DejaVuSans-35\"/>\r\n      </g>\r\n     </g>\r\n    </g>\r\n   </g>\r\n   <g id=\"patch_3\">\r\n    <path d=\"M 33.2875 227.895619 \r\nL 33.2875 10.455619 \r\n\" style=\"fill:none;stroke:#000000;stroke-linecap:square;stroke-linejoin:miter;stroke-width:0.8;\"/>\r\n   </g>\r\n   <g id=\"patch_4\">\r\n    <path d=\"M 250.7275 227.895619 \r\nL 250.7275 10.455619 \r\n\" style=\"fill:none;stroke:#000000;stroke-linecap:square;stroke-linejoin:miter;stroke-width:0.8;\"/>\r\n   </g>\r\n   <g id=\"patch_5\">\r\n    <path d=\"M 33.2875 227.895619 \r\nL 250.7275 227.895619 \r\n\" style=\"fill:none;stroke:#000000;stroke-linecap:square;stroke-linejoin:miter;stroke-width:0.8;\"/>\r\n   </g>\r\n   <g id=\"patch_6\">\r\n    <path d=\"M 33.2875 10.455619 \r\nL 250.7275 10.455619 \r\n\" style=\"fill:none;stroke:#000000;stroke-linecap:square;stroke-linejoin:miter;stroke-width:0.8;\"/>\r\n   </g>\r\n  </g>\r\n </g>\r\n <defs>\r\n  <clipPath id=\"p443388cc63\">\r\n   <rect height=\"217.44\" width=\"217.44\" x=\"33.2875\" y=\"10.455619\"/>\r\n  </clipPath>\r\n </defs>\r\n</svg>\r\n",
      "image/png": "[encoded data removed]"
     },
     "metadata": {
      "needs_background": "light"
     }
    }
   ],
   "source": [
    "plt.imshow(grid)"
   ]
  },
  {
   "cell_type": "code",
   "execution_count": null,
   "metadata": {},
   "outputs": [],
   "source": []
  }
 ]
}